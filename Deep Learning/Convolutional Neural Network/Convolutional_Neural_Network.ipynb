{
  "nbformat": 4,
  "nbformat_minor": 0,
  "metadata": {
    "colab": {
      "name": "Convolutional Neural Network.ipynb",
      "provenance": [],
      "collapsed_sections": []
    },
    "kernelspec": {
      "name": "python3",
      "display_name": "Python 3"
    },
    "language_info": {
      "name": "python"
    }
  },
  "cells": [
    {
      "cell_type": "markdown",
      "source": [
        "# Convolutional Neural Network - Computer Vision"
      ],
      "metadata": {
        "id": "q0YpWdbU1nju"
      }
    },
    {
      "cell_type": "markdown",
      "source": [
        "### Import the libraries"
      ],
      "metadata": {
        "id": "H7kYQA5J4mvs"
      }
    },
    {
      "cell_type": "code",
      "execution_count": 2,
      "metadata": {
        "colab": {
          "base_uri": "https://localhost:8080/",
          "height": 36
        },
        "id": "oWKBcNbirS4f",
        "outputId": "b5867f39-aa4b-4ee5-e29b-d042cdaa3459"
      },
      "outputs": [
        {
          "output_type": "execute_result",
          "data": {
            "text/plain": [
              "'2.8.0'"
            ],
            "application/vnd.google.colaboratory.intrinsic+json": {
              "type": "string"
            }
          },
          "metadata": {},
          "execution_count": 2
        }
      ],
      "source": [
        "import tensorflow as tf\n",
        "from keras.preprocessing.image import ImageDataGenerator\n",
        "tf.__version__"
      ]
    },
    {
      "cell_type": "markdown",
      "source": [
        "## Part 1 - Data Preprocessing"
      ],
      "metadata": {
        "id": "At7ygqLl46B9"
      }
    },
    {
      "cell_type": "markdown",
      "source": [
        "### Preprocessing the Training Set"
      ],
      "metadata": {
        "id": "Z8Y-xgYF5Lu0"
      }
    },
    {
      "cell_type": "code",
      "source": [
        "# implement ImageDataGenerator\n",
        "train_datagen = ImageDataGenerator(\n",
        "        rescale = 1./255,\n",
        "        shear_range = 0.2,\n",
        "        zoom_range = 0.2,\n",
        "        horizontal_flip = True)\n",
        "\n",
        "# load data from local directory\n",
        "# it resizes the images to save on compuational power\n",
        "training_set = train_datagen.flow_from_directory(\n",
        "        'ENTER_DIRECTORY PATH',\n",
        "        target_size=(150, 150), # can edit to make quicker\n",
        "        batch_size=32, # default value\n",
        "        class_mode='binary') # cat and dogs - 2 classes"
      ],
      "metadata": {
        "id": "dwu7VvtW5QBI"
      },
      "execution_count": null,
      "outputs": []
    },
    {
      "cell_type": "markdown",
      "source": [
        "### Preprocessing the Test Set"
      ],
      "metadata": {
        "id": "jarksrFr841X"
      }
    },
    {
      "cell_type": "code",
      "source": [
        "# implement transformation to test set\n",
        "test_datagen = ImageDataGenerator(rescale=1./255) # feature scale and not transform to avoid information leakage\n",
        "\n",
        "test_set = test_datagen.flow_from_directory(\n",
        "        'ENTER_DIRECTORY PATH',\n",
        "        target_size=(150, 150),\n",
        "        batch_size=32,\n",
        "        class_mode='binary')"
      ],
      "metadata": {
        "id": "sAkSooTF9EFO"
      },
      "execution_count": null,
      "outputs": []
    },
    {
      "cell_type": "markdown",
      "source": [
        "## Part 2 - Building the CNN"
      ],
      "metadata": {
        "id": "dDFVNYD1-ucC"
      }
    },
    {
      "cell_type": "markdown",
      "source": [
        "### Initialising the CNN"
      ],
      "metadata": {
        "id": "yw555op4-0ya"
      }
    },
    {
      "cell_type": "code",
      "source": [
        "cnn = tf.keras.models.Sequential()"
      ],
      "metadata": {
        "id": "Klg67Cjm-4rD"
      },
      "execution_count": null,
      "outputs": []
    },
    {
      "cell_type": "markdown",
      "source": [
        "### Step 1 - Convolution"
      ],
      "metadata": {
        "id": "drB8G1Sg_Iyk"
      }
    },
    {
      "cell_type": "code",
      "source": [
        "cnn.add(tf.keras.layers.Conv2D(filters = 32, kernel_size = 3, activation = \"relu\", input_shape = [150, 150, 3]))"
      ],
      "metadata": {
        "id": "yry5EqwQ_LVC"
      },
      "execution_count": null,
      "outputs": []
    },
    {
      "cell_type": "markdown",
      "source": [
        "### Step 2 - Pooling"
      ],
      "metadata": {
        "id": "lTb_3WsEAX-o"
      }
    },
    {
      "cell_type": "code",
      "source": [
        "cnn.add(tf.keras.layers.MaxPool2D(pool_size = 2, strides = 2))"
      ],
      "metadata": {
        "id": "h4OY42sSAaSV"
      },
      "execution_count": null,
      "outputs": []
    },
    {
      "cell_type": "markdown",
      "source": [
        "### Step 3 - Adding 2nd Convolutional Layer"
      ],
      "metadata": {
        "id": "xO1-H08PBXKt"
      }
    },
    {
      "cell_type": "code",
      "source": [
        "cnn.add(tf.keras.layers.Conv2D(filters = 32, kernel_size = 3, activation = \"relu\")) # remove input shape,  only needed first layer\n",
        "cnn.add(tf.keras.layers.MaxPool2D(pool_size = 2, strides = 2))"
      ],
      "metadata": {
        "id": "3Ygj3nYtBbAi"
      },
      "execution_count": null,
      "outputs": []
    },
    {
      "cell_type": "markdown",
      "source": [
        "### Step 4 - Flattening"
      ],
      "metadata": {
        "id": "epDxR630Bohf"
      }
    },
    {
      "cell_type": "code",
      "source": [
        "cnn.add(tf.keras.layers.Flatten())"
      ],
      "metadata": {
        "id": "Jt5927d1Bq2H"
      },
      "execution_count": null,
      "outputs": []
    },
    {
      "cell_type": "markdown",
      "source": [
        "### Step 5 - Full Connection"
      ],
      "metadata": {
        "id": "Ex0h-ylzB4oW"
      }
    },
    {
      "cell_type": "code",
      "source": [
        "cnn.add(tf.keras.layers.Dense(units = 128, activation = \"relu\"))"
      ],
      "metadata": {
        "id": "f-pV6BPHB7Jv"
      },
      "execution_count": null,
      "outputs": []
    },
    {
      "cell_type": "markdown",
      "source": [
        "### Step 6 - Output Layer"
      ],
      "metadata": {
        "id": "NXNXCHBbCbYH"
      }
    },
    {
      "cell_type": "code",
      "source": [
        "cnn.add(tf.keras.layers.Dense(units = 1, activation = \"sigmoid\")) # binary classifcation (1 neuron)"
      ],
      "metadata": {
        "id": "w_eW1C_wCeLL"
      },
      "execution_count": null,
      "outputs": []
    },
    {
      "cell_type": "markdown",
      "source": [
        "## Part 3 - Training the CNN"
      ],
      "metadata": {
        "id": "OLzHxMWjC-Ph"
      }
    },
    {
      "cell_type": "markdown",
      "source": [
        "### Compiling the CNN"
      ],
      "metadata": {
        "id": "1ggDcbjsDPrC"
      }
    },
    {
      "cell_type": "code",
      "source": [
        "cnn.compile(optimizer = \"adam\", loss = \"binary_crossentropy\", metrics = [\"accuracy\"])"
      ],
      "metadata": {
        "id": "87OMls4nDSJX"
      },
      "execution_count": null,
      "outputs": []
    },
    {
      "cell_type": "markdown",
      "source": [
        "### Training the CCN on the Training Set & evaluating it on the Test Set"
      ],
      "metadata": {
        "id": "457weCpADhrC"
      }
    },
    {
      "cell_type": "code",
      "source": [
        "cnn.fit(x = training_set, validation_data = test_set, epochs = 25)"
      ],
      "metadata": {
        "id": "Xbq2SDnhDnae"
      },
      "execution_count": null,
      "outputs": []
    },
    {
      "cell_type": "markdown",
      "source": [
        "## Part 4 - Making a single prediction"
      ],
      "metadata": {
        "id": "JnSa_rwPETwu"
      }
    },
    {
      "cell_type": "code",
      "source": [
        "import numpy as np\n",
        "from keras.preprocessing import image\n",
        "\n",
        "test_image = image.load_img(\"ENTER_DIRECTORY PATH\", target_size = (150,150))\n",
        "test_image = image.img_2_array(test_image)\n",
        "test_image = np.expand_dims(test_image, axis = 0)\n",
        "\n",
        "result = cnn.predict(test_image)\n",
        "\n",
        "training_set.class_indices\n",
        "\n",
        "if result[0][0] == 1:\n",
        "  prediction = \"dog\"\n",
        "else: \n",
        "  prediction = \"cat\""
      ],
      "metadata": {
        "id": "nTKqXqKoEbm_"
      },
      "execution_count": null,
      "outputs": []
    },
    {
      "cell_type": "code",
      "source": [
        "print(prediction)"
      ],
      "metadata": {
        "id": "W-IK9Y4PIap2"
      },
      "execution_count": null,
      "outputs": []
    }
  ]
}