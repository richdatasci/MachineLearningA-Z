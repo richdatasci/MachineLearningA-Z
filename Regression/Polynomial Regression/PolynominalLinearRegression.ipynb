{
  "nbformat": 4,
  "nbformat_minor": 0,
  "metadata": {
    "colab": {
      "name": "PolynominalLinearRegression.ipynb",
      "provenance": [],
      "collapsed_sections": []
    },
    "kernelspec": {
      "name": "python3",
      "display_name": "Python 3"
    },
    "language_info": {
      "name": "python"
    }
  },
  "cells": [
    {
      "cell_type": "markdown",
      "source": [
        "## Polynominal Linear Regression"
      ],
      "metadata": {
        "id": "F62BZRgHKNjF"
      }
    },
    {
      "cell_type": "code",
      "source": [
        "# import libraries\n",
        "import numpy as np\n",
        "import matplotlib.pyplot as plt\n",
        "import pandas as pd"
      ],
      "metadata": {
        "id": "Xryr0DK7KM2N"
      },
      "execution_count": 1,
      "outputs": []
    },
    {
      "cell_type": "code",
      "source": [
        "# import data set\n",
        "dataset = pd.read_csv(\"Position_Salaries.csv\")\n",
        "x = dataset.iloc[:, 1:-1].values\n",
        "y = dataset.iloc[:, -1].values"
      ],
      "metadata": {
        "id": "2keItme4OYxZ"
      },
      "execution_count": 2,
      "outputs": []
    },
    {
      "cell_type": "code",
      "source": [
        "# train the linear regression model on the whole dataset\n",
        "from sklearn.linear_model import LinearRegression\n",
        "linreg = LinearRegression()\n",
        "linreg.fit(x, y)"
      ],
      "metadata": {
        "colab": {
          "base_uri": "https://localhost:8080/"
        },
        "id": "rdrmKmwBPh8c",
        "outputId": "c06d9e6c-984a-4400-f4f4-d1167a4f5b8d"
      },
      "execution_count": 3,
      "outputs": [
        {
          "output_type": "execute_result",
          "data": {
            "text/plain": [
              "LinearRegression()"
            ]
          },
          "metadata": {},
          "execution_count": 3
        }
      ]
    },
    {
      "cell_type": "code",
      "source": [
        "# train polynominal regression model on whole dataset\n",
        "from sklearn.preprocessing import PolynomialFeatures\n",
        "polyreg = PolynomialFeatures(degree = 4) # degree can be adjusted based\n",
        "                                          # model performance\n",
        "X_poly = polyreg.fit_transform(x)\n",
        "\n",
        "linreg2 = LinearRegression()\n",
        "linreg2.fit(X_poly, y)"
      ],
      "metadata": {
        "colab": {
          "base_uri": "https://localhost:8080/"
        },
        "id": "AzTwfQkOQbW6",
        "outputId": "f0df9c2a-512b-47d6-ea3d-98ebe6c030ff"
      },
      "execution_count": 16,
      "outputs": [
        {
          "output_type": "execute_result",
          "data": {
            "text/plain": [
              "LinearRegression()"
            ]
          },
          "metadata": {},
          "execution_count": 16
        }
      ]
    },
    {
      "cell_type": "code",
      "source": [
        "# visualise the Linear regression model\n",
        "\n",
        "plt.scatter(x, y, color = \"red\")\n",
        "plt.plot(x, linreg.predict(x), color=\"blue\")\n",
        "plt.title(\"Truth or Bluff - Linear Regression\")\n",
        "plt.xlabel(\"Position Level\")\n",
        "plt.ylabel(\"Salary (£)\")\n",
        "plt.show()\n"
      ],
      "metadata": {
        "colab": {
          "base_uri": "https://localhost:8080/",
          "height": 295
        },
        "id": "_3DBn6x41uqC",
        "outputId": "1125c3ee-6d33-49ad-ccef-59893173400d"
      },
      "execution_count": 11,
      "outputs": [
        {
          "output_type": "display_data",
          "data": {
            "text/plain": [
              "<Figure size 432x288 with 1 Axes>"
            ],
            "image/png": "[encoded data removed]"
          },
          "metadata": {
            "needs_background": "light"
          }
        }
      ]
    },
    {
      "cell_type": "code",
      "source": [
        "# visualise the Polynomial regression model\n",
        "\n",
        "plt.scatter(x, y, color = \"red\")\n",
        "plt.plot(x, linreg2.predict(X_poly), color=\"blue\")\n",
        "plt.title(\"Truth or Bluff - Polynomial Regression\")\n",
        "plt.xlabel(\"Position Level\")\n",
        "plt.ylabel(\"Salary (£)\")\n",
        "plt.show()"
      ],
      "metadata": {
        "colab": {
          "base_uri": "https://localhost:8080/",
          "height": 295
        },
        "id": "LaeifdbV2r1g",
        "outputId": "8643f4a0-0caa-4224-abcd-1e8108e3545e"
      },
      "execution_count": 17,
      "outputs": [
        {
          "output_type": "display_data",
          "data": {
            "text/plain": [
              "<Figure size 432x288 with 1 Axes>"
            ],
            "image/png": "[encoded data removed]"
          },
          "metadata": {
            "needs_background": "light"
          }
        }
      ]
    },
    {
      "cell_type": "code",
      "source": [
        "# predict a new result with linear regression\n",
        "\n",
        "linreg.predict([[6.5]])"
      ],
      "metadata": {
        "colab": {
          "base_uri": "https://localhost:8080/"
        },
        "id": "jx5JYox044QC",
        "outputId": "ec697dcb-2f69-466b-b257-2b42ecfe647e"
      },
      "execution_count": 18,
      "outputs": [
        {
          "output_type": "execute_result",
          "data": {
            "text/plain": [
              "array([330378.78787879])"
            ]
          },
          "metadata": {},
          "execution_count": 18
        }
      ]
    },
    {
      "cell_type": "code",
      "source": [
        "# predict a new result with polynomial regression\n",
        "\n",
        "linreg2.predict(polyreg.fit_transform([[6.5]]))"
      ],
      "metadata": {
        "colab": {
          "base_uri": "https://localhost:8080/"
        },
        "id": "-sdKGA0y5-L9",
        "outputId": "a1507b24-9fa3-49e2-e016-11a882ce76de"
      },
      "execution_count": 20,
      "outputs": [
        {
          "output_type": "execute_result",
          "data": {
            "text/plain": [
              "array([158862.45265155])"
            ]
          },
          "metadata": {},
          "execution_count": 20
        }
      ]
    }
  ]
}