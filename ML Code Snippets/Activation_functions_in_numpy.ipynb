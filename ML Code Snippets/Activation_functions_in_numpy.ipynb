{
  "nbformat": 4,
  "nbformat_minor": 0,
  "metadata": {
    "colab": {
      "provenance": []
    },
    "kernelspec": {
      "name": "python3",
      "display_name": "Python 3"
    },
    "language_info": {
      "name": "python"
    }
  },
  "cells": [
    {
      "cell_type": "code",
      "execution_count": null,
      "metadata": {
        "id": "xhw611hZvThy"
      },
      "outputs": [],
      "source": [
        "# Tanh\n",
        "def tanh(x):\n",
        "  return (np.exp(x)-np.exp(-x))/ (np.exp(x)+np.exp(-x))\n",
        "\n",
        "# ReLU - Rectified Linear Unit\n",
        "def relu(x):\n",
        "  return np.where(x>0, x, 0)\n",
        "\n",
        "# Linear\n",
        "def linear(x):\n",
        "  return x\n",
        "\n",
        "# Softmax  Unlike other activations, softmax is performed on top of an\n",
        "# array of values. This is generally done to determine the probability of an\n",
        "# input belonging to one of the m number of possible output classes in a\n",
        "# given scenario. Let's say we are trying to classify an image of a digit into\n",
        "# one of the possible 10 classes (numbers from 0 to 9). In this case, there are\n",
        "# 10 output values, where each output value should represent the probability\n",
        "# of an input image belonging to one of the 10 classes.\n",
        "def softmax(x):\n",
        "  return np.exp(x) / np.sum(np.exp(x))\n"
      ]
    }
  ]
}